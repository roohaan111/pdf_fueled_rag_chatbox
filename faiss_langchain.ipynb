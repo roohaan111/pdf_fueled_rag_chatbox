{
 "cells": [
  {
   "metadata": {},
   "cell_type": "markdown",
   "source": "Langchain and Faiss",
   "id": "8a77807f92f26ee"
  },
  {
   "metadata": {
    "ExecuteTime": {
     "end_time": "2025-02-20T04:23:07.533122Z",
     "start_time": "2025-02-20T04:23:01.306115Z"
    }
   },
   "cell_type": "code",
   "source": [
    "import PyPDF2\n",
    "import os\n",
    "import pandas as pd\n",
    "import faiss\n",
    "from sentence_transformers import SentenceTransformer\n",
    "import numpy as np\n",
    "from langchain.chat_models import ChatOllama\n"
   ],
   "id": "bdf75edb91ab5e9f",
   "outputs": [],
   "execution_count": 1
  },
  {
   "metadata": {
    "ExecuteTime": {
     "end_time": "2025-02-20T04:23:07.538035Z",
     "start_time": "2025-02-20T04:23:07.536090Z"
    }
   },
   "cell_type": "code",
   "source": [
    "def extract_text_from_pdf(file_path):\n",
    "\n",
    "    try:\n",
    "        with open(file_path, \"rb\") as file:\n",
    "            reader = PyPDF2.PdfReader(file)\n",
    "            text = \" \".join([page.extract_text() for page in reader.pages if page.extract_text()])\n",
    "        return text\n",
    "    except Exception as e:\n",
    "        print(f\"Error extracting text from {file_path}: {e}\")\n",
    "        return None"
   ],
   "id": "87db4f87bc0bae2c",
   "outputs": [],
   "execution_count": 2
  },
  {
   "metadata": {
    "ExecuteTime": {
     "end_time": "2025-02-20T04:23:07.638211Z",
     "start_time": "2025-02-20T04:23:07.636577Z"
    }
   },
   "cell_type": "code",
   "source": [
    "def load_pdfs(file_paths):\n",
    "\n",
    "    docs = {}\n",
    "    for file_path in file_paths:\n",
    "        text = extract_text_from_pdf(file_path)\n",
    "        if text:\n",
    "            docs[file_path] = text\n",
    "    print(f\"Loaded {len(docs)} PDFs.\")\n",
    "    return docs"
   ],
   "id": "9f5d7f2c8c2d3d8f",
   "outputs": [],
   "execution_count": 3
  },
  {
   "metadata": {
    "ExecuteTime": {
     "end_time": "2025-02-20T04:23:07.643859Z",
     "start_time": "2025-02-20T04:23:07.641829Z"
    }
   },
   "cell_type": "code",
   "source": [
    "def create_faiss_index(docs, model):\n",
    "\n",
    "    sentences = []\n",
    "    file_refs = []\n",
    "    for file, text in docs.items():\n",
    "        chunks = text.split(\". \")\n",
    "        sentences.extend(chunks)\n",
    "        file_refs.extend([file] * len(chunks))\n",
    "\n",
    "    embeddings = model.encode(sentences, convert_to_numpy=True)\n",
    "    index = faiss.IndexFlatL2(embeddings.shape[1])\n",
    "    index.add(embeddings)\n",
    "    data = pd.DataFrame({\"sentence\": sentences, \"file\": file_refs})\n",
    "    return index, data"
   ],
   "id": "93c16ea9068014cc",
   "outputs": [],
   "execution_count": 4
  },
  {
   "metadata": {
    "ExecuteTime": {
     "end_time": "2025-02-20T04:23:07.649027Z",
     "start_time": "2025-02-20T04:23:07.647130Z"
    }
   },
   "cell_type": "code",
   "source": [
    "def answer_question(query, index, data, model, llm, top_k=3):\n",
    "\n",
    "    query_embedding = model.encode([query], convert_to_numpy=True)\n",
    "    _, indices = index.search(query_embedding, top_k)\n",
    "\n",
    "    extracted_texts = []\n",
    "    sources = []\n",
    "    for idx in indices[0]:\n",
    "        response = data.iloc[idx]\n",
    "        extracted_texts.append(response[\"sentence\"])\n",
    "        sources.append(os.path.basename(response[\"file\"]))\n",
    "\n",
    "    context = \" \".join(extracted_texts)\n",
    "    prompt = f\"Based on the following context, answer the question: {query}\\n\\nContext: {context}\\n\\nAnswer:\"\n",
    "\n",
    "    answer = llm.predict(prompt)\n",
    "    return {\"answer\": answer, \"citations\": list(set(sources))}"
   ],
   "id": "b25ff8ad809c9db8",
   "outputs": [],
   "execution_count": 5
  },
  {
   "metadata": {
    "ExecuteTime": {
     "end_time": "2025-02-20T04:25:12.543280Z",
     "start_time": "2025-02-20T04:25:05.329432Z"
    }
   },
   "cell_type": "code",
   "source": [
    "embedding_model = SentenceTransformer(\"all-MiniLM-L6-v2\")\n",
    "llm = ChatOllama(model= \"llama3.2\")\n",
    "\n",
    "pdf_files = [\n",
    "    \"/Users/avilochab/Desktop/Job: Work/Chatbox/files/scammer-agent.pdf\",\n",
    "    \"/Users/avilochab/Desktop/Job: Work/Chatbox/files/LLMs.pdf\",\n",
    "    \"/Users/avilochab/Desktop/Job: Work/Chatbox/files/SOF.pdf\",\n",
    "    \"/Users/avilochab/Desktop/Job: Work/Chatbox/files/wef.pdf\",\n",
    "    \"/Users/avilochab/Desktop/Job: Work/Chatbox/files/aviationGPT.pdf\"\n",
    "]\n",
    "\n",
    "docs = load_pdfs(pdf_files)\n",
    "index, data = create_faiss_index(docs, embedding_model)\n",
    "\n"
   ],
   "id": "5ea5fb0e290d3f11",
   "outputs": [
    {
     "name": "stdout",
     "output_type": "stream",
     "text": [
      "Loaded 5 PDFs.\n"
     ]
    }
   ],
   "execution_count": 9
  },
  {
   "metadata": {
    "ExecuteTime": {
     "end_time": "2025-02-20T04:28:02.191579Z",
     "start_time": "2025-02-20T04:27:58.592062Z"
    }
   },
   "cell_type": "code",
   "source": [
    "response = answer_question(\"Explain LLM in 100 words\", index, data, embedding_model, llm)\n",
    "print(\"Answer:\", response[\"answer\"])\n",
    "print(\"Citations:\", response[\"citations\"])"
   ],
   "id": "9d5b8ba802e3c20e",
   "outputs": [
    {
     "name": "stdout",
     "output_type": "stream",
     "text": [
      "Answer: A Large Language Model (LLM) is a type of artificial intelligence designed to understand and generate human-like language. It is trained on vast amounts of text data, enabling it to learn patterns and relationships within language. LLMs can be fine-tuned for specific tasks, such as answering questions or generating text, by integrating retrieved information from various sources. This integration allows the model to produce accurate and context-specific responses, making them more effective in human-computer interaction and conversational AI applications. The ability of LLMs to adapt to new information and tasks is a key aspect of their performance.\n",
      "Citations: ['aviationGPT.pdf']\n"
     ]
    }
   ],
   "execution_count": 16
  },
  {
   "metadata": {
    "ExecuteTime": {
     "end_time": "2025-02-20T04:25:23.854056Z",
     "start_time": "2025-02-20T04:25:22.003856Z"
    }
   },
   "cell_type": "code",
   "source": [
    "response = answer_question(\"Explain intent of a scammer\", index, data, embedding_model, llm)\n",
    "print(\"Answer:\", response[\"answer\"])\n",
    "print(\"Citations:\", response[\"citations\"])"
   ],
   "id": "276448daf773db7b",
   "outputs": [
    {
     "name": "stdout",
     "output_type": "stream",
     "text": [
      "Answer: The intent of a scammer is to deceive and manipulate the victim into believing that their actions are legitimate, in order to gain their trust and ultimately steal funds from them. The primary goal is to create a false sense of legitimacy and authority, allowing the scammer to carry out their malicious intentions.\n",
      "Citations: ['scammer-agent.pdf']\n"
     ]
    }
   ],
   "execution_count": 11
  },
  {
   "metadata": {
    "ExecuteTime": {
     "end_time": "2025-02-20T04:25:47.078136Z",
     "start_time": "2025-02-20T04:25:45.672412Z"
    }
   },
   "cell_type": "code",
   "source": [
    "response = answer_question(\"Explain aviationGPT\", index, data, embedding_model, llm)\n",
    "print(\"Answer:\", response[\"answer\"])\n",
    "print(\"Citations:\", response[\"citations\"])"
   ],
   "id": "904ead8bd38bc4a4",
   "outputs": [
    {
     "name": "stdout",
     "output_type": "stream",
     "text": [
      "Answer: AviationGPT is a cutting-edge technology that offers flexibility and substantial performance enhancements in aviation. The exact nature and capabilities of AviationGPT are not specified in the provided context, but it appears to be a system or platform designed for aviation applications, possibly related to artificial intelligence, machine learning, or other advanced technologies.\n",
      "Citations: ['aviationGPT.pdf']\n"
     ]
    }
   ],
   "execution_count": 14
  },
  {
   "metadata": {
    "ExecuteTime": {
     "end_time": "2025-02-20T04:25:58.472411Z",
     "start_time": "2025-02-20T04:25:52.624546Z"
    }
   },
   "cell_type": "code",
   "source": [
    "response = answer_question(\"Explain Special forces\", index, data, embedding_model, llm)\n",
    "print(\"Answer:\", response[\"answer\"])\n",
    "print(\"Citations:\", response[\"citations\"])"
   ],
   "id": "74b893243a183e9b",
   "outputs": [
    {
     "name": "stdout",
     "output_type": "stream",
     "text": [
      "Answer: Special forces, also known as Special Operations Forces (SOF), are elite military units that conduct unconventional operations, such as counter-terrorism, direct action, special reconnaissance, and foreign internal defense missions. They are trained to operate outside the normal rules of engagement and often work behind enemy lines.\n",
      "\n",
      "The primary purpose of special forces is to:\n",
      "\n",
      "1. Conduct high-risk missions that require specialized skills and training.\n",
      "2. Gather intelligence and conduct surveillance in hostile or denied areas.\n",
      "3. Conduct direct action against high-value targets, such as terrorist leaders or key infrastructure.\n",
      "4. Provide training and support to foreign military forces to help build their capacity.\n",
      "\n",
      "Special forces are typically characterized by:\n",
      "\n",
      "1. Elite training: Special forces undergo rigorous training that includes advanced skills in combat, tactics, and survival.\n",
      "2. Small team size: Special forces teams usually consist of 5-12 personnel, which allows for flexibility and adaptability.\n",
      "3. Flexibility: Special forces units can operate in a variety of environments and conduct a range of missions.\n",
      "\n",
      "Examples of special forces include:\n",
      "\n",
      "* Navy SEALs (United States)\n",
      "* Delta Force (United States)\n",
      "* SAS (United Kingdom)\n",
      "* Delta Company (Australia)\n",
      "\n",
      "Overall, special forces are designed to provide the Department of Defense with a flexible and adaptable capability to conduct complex operations in a wide range of environments.\n",
      "Citations: ['SOF.pdf']\n"
     ]
    }
   ],
   "execution_count": 15
  },
  {
   "metadata": {},
   "cell_type": "code",
   "outputs": [],
   "execution_count": null,
   "source": "",
   "id": "504e98fbd7ce9c84"
  }
 ],
 "metadata": {
  "kernelspec": {
   "display_name": "Python 3",
   "language": "python",
   "name": "python3"
  },
  "language_info": {
   "codemirror_mode": {
    "name": "ipython",
    "version": 2
   },
   "file_extension": ".py",
   "mimetype": "text/x-python",
   "name": "python",
   "nbconvert_exporter": "python",
   "pygments_lexer": "ipython2",
   "version": "2.7.6"
  }
 },
 "nbformat": 4,
 "nbformat_minor": 5
}
